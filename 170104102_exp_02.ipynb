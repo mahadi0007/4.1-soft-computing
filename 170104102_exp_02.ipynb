{
  "nbformat": 4,
  "nbformat_minor": 0,
  "metadata": {
    "colab": {
      "name": "170104102_exp_02.ipynb",
      "provenance": [],
      "collapsed_sections": [],
      "include_colab_link": true
    },
    "kernelspec": {
      "name": "python3",
      "display_name": "Python 3"
    },
    "language_info": {
      "name": "python"
    },
    "accelerator": "GPU"
  },
  "cells": [
    {
      "cell_type": "markdown",
      "metadata": {
        "id": "view-in-github",
        "colab_type": "text"
      },
      "source": [
        "<a href=\"https://colab.research.google.com/github/mahadi0007/4.1-soft-computing/blob/Lab-(assignment)/170104102_exp_02.ipynb\" target=\"_parent\"><img src=\"https://colab.research.google.com/assets/colab-badge.svg\" alt=\"Open In Colab\"/></a>"
      ]
    },
    {
      "cell_type": "code",
      "metadata": {
        "colab": {
          "base_uri": "https://localhost:8080/"
        },
        "id": "ozf-qRubmelG",
        "outputId": "7e48c367-5ca6-438b-dc3c-bc5f66c382c8"
      },
      "source": [
        "from google.colab import drive\n",
        "\n",
        "drive.mount('/content/drive')\n",
        "\n",
        "root_path = '/content/drive/MyDrive/Colab Notebooks/soft assignment/assignment 2/'"
      ],
      "execution_count": null,
      "outputs": [
        {
          "output_type": "stream",
          "name": "stdout",
          "text": [
            "Mounted at /content/drive\n"
          ]
        }
      ]
    },
    {
      "cell_type": "markdown",
      "metadata": {
        "id": "sKNvEPfDHQFP"
      },
      "source": [
        "# Import Library"
      ]
    },
    {
      "cell_type": "code",
      "metadata": {
        "id": "7TYWfYCnZPun"
      },
      "source": [
        "import numpy as np\n",
        "import pandas as pd\n",
        "import matplotlib\n",
        "import matplotlib.pyplot as plt\n",
        "import os\n",
        "import torch\n",
        "import torch.nn as nn\n",
        "import torch.nn.functional as F\n",
        "from torch.utils.data import Dataset\n",
        "from torch.utils.data.sampler import SubsetRandomSampler\n",
        "from torchvision import datasets, transforms\n",
        "from PIL import Image\n",
        "from sklearn.metrics import accuracy_score\n",
        "from sklearn.metrics import confusion_matrix\n",
        "from sklearn.metrics import f1_score\n",
        "from sklearn.metrics import precision_score\n",
        "from sklearn.metrics import recall_score\n",
        "from sklearn.model_selection import train_test_split"
      ],
      "execution_count": null,
      "outputs": []
    },
    {
      "cell_type": "markdown",
      "metadata": {
        "id": "qtsiAeLAt2Sm"
      },
      "source": [
        "# Confusion Matrix"
      ]
    },
    {
      "cell_type": "code",
      "metadata": {
        "id": "7Tqi81ASt9c1"
      },
      "source": [
        "def plot_confusion_matrix(cm, classes):\n",
        "  plt.imshow(cm, interpolation='nearest', cmap=plt.cm.Blues)\n",
        "  plt.title('Confusion matrix')\n",
        "  plt.colorbar()\n",
        "  tick_marks = np.arange(len(classes))\n",
        "  plt.xticks(tick_marks, classes, rotation=45)\n",
        "  plt.yticks(tick_marks, classes)\n",
        "\n",
        "  thresh = cm.max() / 2.\n",
        "  for i in range (cm.shape[0]):\n",
        "    for j in range (cm.shape[1]):\n",
        "      plt.text(j, i, cm[i, j], horizontalalignment=\"center\", color=\"white\" if cm[i, j] > thresh else \"black\")\n",
        "      plt.tight_layout()\n",
        "      plt.ylabel('True label')\n",
        "      plt.xlabel('Predicted label')"
      ],
      "execution_count": null,
      "outputs": []
    },
    {
      "cell_type": "markdown",
      "metadata": {
        "id": "pSyejI8Shty9"
      },
      "source": [
        "# Train"
      ]
    },
    {
      "cell_type": "code",
      "metadata": {
        "id": "50AqsalZRlG7"
      },
      "source": [
        "def train_func(train_dataset, test_dataset, exp_num):\n",
        "  # Hyperparameters\n",
        "\n",
        "  batch_size = 132\n",
        "  num_iters = 30000\n",
        "  input_dim = 28*28 # num_features = 784\n",
        "  num_hidden = 650 # num of hidden nodes\n",
        "  output_dim = 10\n",
        "\n",
        "  learning_rate = 0.001  # More power so we can learn faster! previously it was 0.001\n",
        "\n",
        "  startingEpoch = 0\n",
        "  iteration_loss = []\n",
        "  iter = 0\n",
        "\n",
        "  # Device\n",
        "  device = torch.device(\"cuda:0\" if torch.cuda.is_available() else \"cpu\")\n",
        "\n",
        "  X_data = train_dataset.drop(\"label\", axis=1).values.astype(np.uint8)\n",
        "  y_data = train_dataset[\"label\"].values.astype(np.uint8)\n",
        "\n",
        "  X_test = test_dataset.drop(\"label\", axis=1).values.astype(np.uint8)\n",
        "  y_test = test_dataset[\"label\"].values.astype(np.uint8)\n",
        "\n",
        "  class Digit_Recognizer_model(Dataset):\n",
        "    def __init__(self, X, y, transforms):\n",
        "      self.X = X\n",
        "      self.y = y\n",
        "      self.transforms = transforms\n",
        "\n",
        "    def __len__(self):\n",
        "      return self.X.shape[0]\n",
        "\n",
        "    def __getitem__(self, idx):\n",
        "      X = np.reshape(self.X[idx], (28, 28, 1))\n",
        "      X = self.transforms(X)\n",
        "      return X, self.y[idx]\n",
        "  \n",
        "  transform_test = transforms.Compose([\n",
        "    transforms.ToTensor(),\n",
        "    transforms.Normalize((0.5,), (0.5,))\n",
        "  ])\n",
        "\n",
        "  train_dataset = Digit_Recognizer_model(X=X_data, y=y_data, transforms=transform_test)\n",
        "  test_dataset = Digit_Recognizer_model(X=X_test, y=y_test, transforms=transform_test)\n",
        "\n",
        "  num_epochs = num_iters / (len(train_dataset) / batch_size)\n",
        "  num_epochs = int(num_epochs)\n",
        "\n",
        "  # prepare loaders\n",
        "  train_loader = torch.utils.data.DataLoader(dataset=train_dataset, \n",
        "                                            batch_size=batch_size, \n",
        "                                            shuffle=True)   # It's better to shuffle the whole training dataset! \n",
        "\n",
        "  test_loader = torch.utils.data.DataLoader(dataset=test_dataset, \n",
        "                                            batch_size=batch_size, \n",
        "                                            shuffle=False) \n",
        "  \n",
        "  class DeepNeuralNetworkModel(nn.Module):\n",
        "    def __init__(self, input_size, num_classes):\n",
        "      super().__init__()      \n",
        "\n",
        "      self.linear_1 = nn.Linear(input_size, num_hidden)\n",
        "      ### Non-linearity in 1st hidden layer\n",
        "      self.relu_1 = nn.ReLU()\n",
        "\n",
        "      self.linear_out = nn.Linear(num_hidden, num_classes)\n",
        "    \n",
        "    def forward(self, x):\n",
        "      ### 1st hidden layer\n",
        "      out  = self.linear_1(x)\n",
        "      ### Non-linearity in 1st hidden layer\n",
        "      out = self.relu_1(out)\n",
        "\n",
        "      probas  = self.linear_out(out)\n",
        "      return probas\n",
        "\n",
        "  \n",
        "  '''\n",
        "  INSTANTIATE MODEL CLASS\n",
        "  '''\n",
        "  model = DeepNeuralNetworkModel(input_size = input_dim,\n",
        "                                num_classes = output_dim)\n",
        "  # To enable GPU\n",
        "  model.to(device)\n",
        "\n",
        "  criterion = nn.CrossEntropyLoss()\n",
        "  optimizer = torch.optim.Adam(model.parameters(), lr = learning_rate)\n",
        "\n",
        "  if exp_num == 1 and os.path.isfile(root_path + 'soft_computing_Experiment2_Checkpoint1.pth.tar'):\n",
        "    checkpoint = torch.load(root_path + 'soft_computing_Experiment2_Checkpoint1.pth.tar')\n",
        "    print(\"--> Loading checkpoint : \")\n",
        "    print(str(checkpoint['iter'])+' iteration completed: ')\n",
        "    model.load_state_dict(checkpoint['model_state_dict'])\n",
        "    optimizer.load_state_dict(checkpoint['optimizer_state_dict'])\n",
        "    loss = checkpoint['loss']\n",
        "    startingEpoch = checkpoint['epoch']\n",
        "    iteration_loss = checkpoint['iteration_loss']\n",
        "    iter = checkpoint['iter']\n",
        "    model.train()\n",
        "  elif exp_num == 2 and os.path.isfile(root_path + 'soft_computing_Experiment2_Checkpoint2.pth.tar'):\n",
        "    checkpoint = torch.load(root_path + 'soft_computing_Experiment2_Checkpoint2.pth.tar')\n",
        "    print(\"--> Loading checkpoint : \")\n",
        "    print(str(checkpoint['iter'])+' iteration completed: ')\n",
        "    model.load_state_dict(checkpoint['model_state_dict'])\n",
        "    optimizer.load_state_dict(checkpoint['optimizer_state_dict'])\n",
        "    loss = checkpoint['loss']\n",
        "    startingEpoch = checkpoint['epoch']\n",
        "    iteration_loss = checkpoint['iteration_loss']\n",
        "    iter = checkpoint['iter']\n",
        "    model.train()\n",
        "\n",
        "  if startingEpoch + 1 < num_epochs:\n",
        "    print('Starting_Epoch: '+ str(startingEpoch + 1))\n",
        "    for epoch in range(startingEpoch, num_epochs):      \n",
        "      for i, (images, labels) in enumerate(train_loader):\n",
        "        \n",
        "        images = images.view(-1, 28*28).to(device)\n",
        "        labels = labels.to(device).type(torch.LongTensor)\n",
        "\n",
        "        \n",
        "        # Clear gradients w.r.t. parameters\n",
        "        optimizer.zero_grad()\n",
        "\n",
        "        # Forward pass to get output/logits\n",
        "        outputs = model(images).cpu()\n",
        "\n",
        "        # Calculate Loss: softmax --> cross entropy loss\n",
        "  \n",
        "        loss = criterion(outputs, labels)\n",
        "\n",
        "        # Getting gradients w.r.t. parameters\n",
        "        loss.backward()\n",
        "\n",
        "        # Updating parameters\n",
        "        optimizer.step()\n",
        "\n",
        "        iter += 1\n",
        "\n",
        "        if iter % 500 == 0:\n",
        "          # Calculate Accuracy         \n",
        "          correct = 0\n",
        "          total = 0\n",
        "          # Iterate through test dataset\n",
        "          for images, labels in test_loader:\n",
        "            \n",
        "            images = images.view(-1, 28*28).to(device)\n",
        "\n",
        "            # Forward pass only to get logits/output\n",
        "            outputs = model(images)\n",
        "\n",
        "            # Get predictions from the maximum value\n",
        "            _, predicted = torch.max(outputs, 1)\n",
        "\n",
        "            # Total number of labels\n",
        "            total += labels.size(0)\n",
        "\n",
        "\n",
        "            # Total correct predictions\n",
        "            if torch.cuda.is_available():\n",
        "              correct += (predicted.cpu() == labels.cpu()).sum() \n",
        "            else:\n",
        "              correct += (predicted == labels).sum()\n",
        "\n",
        "          accuracy = 100 * correct.item() / total\n",
        "          \n",
        "          # Print Loss\n",
        "          iteration_loss.append(loss.item())\n",
        "          print('Iteration: {}. Loss: {}. Accuracy: {}'.format(iter, loss.item(), accuracy))\n",
        "\n",
        "      checkpoint = {'epoch': epoch, \n",
        "                    'model_state_dict': model.state_dict(), \n",
        "                    'optimizer_state_dict': optimizer.state_dict(),\n",
        "                    'loss': loss,\n",
        "                    'iteration_loss': iteration_loss,\n",
        "                    'iter': iter}\n",
        "      print(\"=> Saving checkpoint of epoch \" + str(epoch + 1))\n",
        "      if exp_num == 1:\n",
        "        torch.save(checkpoint, root_path + 'soft_computing_Experiment2_Checkpoint1.pth.tar')\n",
        "      elif exp_num == 2:\n",
        "        torch.save(checkpoint, root_path + 'soft_computing_Experiment2_Checkpoint2.pth.tar')\n",
        "  else:\n",
        "    print('Training finish')\n",
        "\n",
        "  plt.title(\"Loss vs Iteration\")\n",
        "  plt.plot(iteration_loss)\n",
        "  plt.ylabel('Cross Entropy Loss')\n",
        "  plt.xlabel('Iteration (in every 500)')\n",
        "  plt.show()\n",
        "\n",
        "  save_model = True\n",
        "\n",
        "  if save_model is True and exp_num == 1:\n",
        "    # Saves only parameters\n",
        "    # weights & biases\n",
        "    torch.save(model.state_dict(), root_path + 'soft_computing_Experiment2_NN1.pkl')\n",
        "  elif save_model is True and exp_num == 2:\n",
        "    # Saves only parameters\n",
        "    # weights & biases\n",
        "    torch.save(model.state_dict(), root_path + 'soft_computing_Experiment2_NN2.pkl')\n",
        "\n",
        "  load_model = True\n",
        "\n",
        "  if load_model is True and exp_num == 1:\n",
        "    model.load_state_dict(torch.load(root_path + 'soft_computing_Experiment2_NN1.pkl'))\n",
        "    print('Trained Model Loaded')\n",
        "  elif load_model is True and exp_num == 2:\n",
        "    model.load_state_dict(torch.load(root_path + 'soft_computing_Experiment2_NN2.pkl'))\n",
        "    print('Trained Model Loaded')\n",
        "\n",
        "\n",
        "  \n",
        "  y_pred = torch.tensor([], dtype=torch.int32)\n",
        "  y_true = torch.tensor([], dtype=torch.int32)\n",
        "  for i, (images, labels) in enumerate(test_loader):\n",
        "    images = images.view(-1, 28*28).to(device)\n",
        "    labels = labels.to(device)\n",
        "\n",
        "    # Forward pass only to get logits/output\n",
        "    outputs = model(images).cpu()\n",
        "\n",
        "    # Get predictions from the maximum value\n",
        "    _, predictions = torch.max(outputs, 1)\n",
        "    y_pred = torch.cat((y_pred, predictions.cpu()), dim = 0)\n",
        "    y_true = torch.cat((y_true.cpu(), labels.cpu()), dim = 0).to(device)\n",
        "\n",
        "\n",
        "  print('Accuracy: ' +str(round(accuracy_score(y_true.cpu(), y_pred) * 100, 4)))\n",
        "  print('Precision: ' +str(round(precision_score(y_true.cpu(), y_pred, average='micro') * 100, 4)))\n",
        "  print('Recall: ' +str(round(recall_score(y_true.cpu(), y_pred, average='micro') * 100, 4)))\n",
        "  print('F1 score: ' +str(round(f1_score(y_true.cpu(), y_pred, average='micro')  * 100, 4)))\n",
        "  confusion_mtx = confusion_matrix(y_true.cpu(), y_pred)\n",
        "  plot_confusion_matrix(confusion_mtx, classes = range(10))"
      ],
      "execution_count": null,
      "outputs": []
    },
    {
      "cell_type": "markdown",
      "metadata": {
        "id": "MbKjn2zOhM_0"
      },
      "source": [
        "# Model 1\n",
        "final_data_with_pixels"
      ]
    },
    {
      "cell_type": "code",
      "metadata": {
        "id": "eG97wmIiaBsc"
      },
      "source": [
        "df = pd.read_csv(root_path + 'Dataset A/final_data_with_pixels.csv')"
      ],
      "execution_count": null,
      "outputs": []
    },
    {
      "cell_type": "code",
      "metadata": {
        "id": "red2GGG1M5PK"
      },
      "source": [
        "train_dataset, test_dataset = train_test_split(df, test_size=0.2, random_state=42)"
      ],
      "execution_count": null,
      "outputs": []
    },
    {
      "cell_type": "code",
      "metadata": {
        "id": "vmkMVvf8CLHf",
        "colab": {
          "base_uri": "https://localhost:8080/",
          "height": 710
        },
        "outputId": "d0477def-b792-4be4-dbf1-91b8f75021f7"
      },
      "source": [
        "train_func(train_dataset, test_dataset, 1)"
      ],
      "execution_count": null,
      "outputs": [
        {
          "output_type": "stream",
          "name": "stdout",
          "text": [
            "--> Loading checkpoint : \n",
            "30120 iteration completed: \n",
            "Training finish\n"
          ]
        },
        {
          "output_type": "display_data",
          "data": {
            "image/png": "[encoded data removed]",
            "text/plain": [
              "<Figure size 432x288 with 1 Axes>"
            ]
          },
          "metadata": {
            "needs_background": "light"
          }
        },
        {
          "output_type": "stream",
          "name": "stdout",
          "text": [
            "Trained Model Loaded\n",
            "Accuracy: 87.4651\n",
            "Precision: 87.4651\n",
            "Recall: 87.4651\n",
            "F1 score: 87.4651\n"
          ]
        },
        {
          "output_type": "display_data",
          "data": {
            "image/png": "[encoded data removed]",
            "text/plain": [
              "<Figure size 432x288 with 2 Axes>"
            ]
          },
          "metadata": {
            "needs_background": "light"
          }
        }
      ]
    },
    {
      "cell_type": "markdown",
      "metadata": {
        "id": "dDZMkQYCjtac"
      },
      "source": [
        "# Model 2\n",
        "MNIST"
      ]
    },
    {
      "cell_type": "code",
      "metadata": {
        "id": "9zuuJ97njtad"
      },
      "source": [
        "train_dataset = pd.read_csv(root_path + \"Dataset_2/verification_train.csv\")\n",
        "test_dataset = pd.read_csv(root_path + \"Dataset_2/verification_test.csv\")"
      ],
      "execution_count": null,
      "outputs": []
    },
    {
      "cell_type": "code",
      "metadata": {
        "id": "_q4OjIq7jtae",
        "colab": {
          "base_uri": "https://localhost:8080/",
          "height": 1000
        },
        "outputId": "88908c49-f09d-4812-bf03-e0a18cc81a94"
      },
      "source": [
        "train_func(train_dataset, test_dataset, 2)"
      ],
      "execution_count": null,
      "outputs": [
        {
          "output_type": "stream",
          "name": "stdout",
          "text": [
            "Starting_Epoch: 1\n",
            "=> Saving checkpoint of epoch 1\n",
            "Iteration: 500. Loss: 0.4017874002456665. Accuracy: 85.24\n",
            "=> Saving checkpoint of epoch 2\n",
            "Iteration: 1000. Loss: 0.37911760807037354. Accuracy: 87.4\n",
            "=> Saving checkpoint of epoch 3\n",
            "Iteration: 1500. Loss: 0.3563182055950165. Accuracy: 88.41\n",
            "=> Saving checkpoint of epoch 4\n",
            "Iteration: 2000. Loss: 0.3493170142173767. Accuracy: 87.86\n",
            "=> Saving checkpoint of epoch 5\n",
            "Iteration: 2500. Loss: 0.3643619120121002. Accuracy: 87.75\n",
            "=> Saving checkpoint of epoch 6\n",
            "Iteration: 3000. Loss: 0.2694605588912964. Accuracy: 89.18\n",
            "=> Saving checkpoint of epoch 7\n",
            "Iteration: 3500. Loss: 0.2900059223175049. Accuracy: 88.53\n",
            "=> Saving checkpoint of epoch 8\n",
            "Iteration: 4000. Loss: 0.2265452742576599. Accuracy: 89.14\n",
            "=> Saving checkpoint of epoch 9\n",
            "Iteration: 4500. Loss: 0.15530355274677277. Accuracy: 89.35\n",
            "=> Saving checkpoint of epoch 10\n",
            "Iteration: 5000. Loss: 0.21492169797420502. Accuracy: 89.56\n",
            "=> Saving checkpoint of epoch 11\n",
            "=> Saving checkpoint of epoch 12\n",
            "Iteration: 5500. Loss: 0.19824285805225372. Accuracy: 88.23\n",
            "=> Saving checkpoint of epoch 13\n",
            "Iteration: 6000. Loss: 0.2215975522994995. Accuracy: 89.62\n",
            "=> Saving checkpoint of epoch 14\n",
            "Iteration: 6500. Loss: 0.2651882469654083. Accuracy: 89.09\n",
            "=> Saving checkpoint of epoch 15\n",
            "Iteration: 7000. Loss: 0.15413126349449158. Accuracy: 88.84\n",
            "=> Saving checkpoint of epoch 16\n",
            "Iteration: 7500. Loss: 0.1457953006029129. Accuracy: 89.5\n",
            "=> Saving checkpoint of epoch 17\n",
            "Iteration: 8000. Loss: 0.19686363637447357. Accuracy: 89.55\n",
            "=> Saving checkpoint of epoch 18\n",
            "Iteration: 8500. Loss: 0.08864832669496536. Accuracy: 89.89\n",
            "=> Saving checkpoint of epoch 19\n",
            "Iteration: 9000. Loss: 0.10176780819892883. Accuracy: 89.77\n",
            "=> Saving checkpoint of epoch 20\n",
            "Iteration: 9500. Loss: 0.1554143726825714. Accuracy: 89.45\n",
            "=> Saving checkpoint of epoch 21\n",
            "Iteration: 10000. Loss: 0.2064620554447174. Accuracy: 89.65\n",
            "=> Saving checkpoint of epoch 22\n",
            "=> Saving checkpoint of epoch 23\n",
            "Iteration: 10500. Loss: 0.09547014534473419. Accuracy: 89.16\n",
            "=> Saving checkpoint of epoch 24\n",
            "Iteration: 11000. Loss: 0.09087332338094711. Accuracy: 89.91\n",
            "=> Saving checkpoint of epoch 25\n",
            "Iteration: 11500. Loss: 0.0538301095366478. Accuracy: 89.73\n",
            "=> Saving checkpoint of epoch 26\n",
            "Iteration: 12000. Loss: 0.13004590570926666. Accuracy: 89.64\n",
            "=> Saving checkpoint of epoch 27\n",
            "Iteration: 12500. Loss: 0.16723822057247162. Accuracy: 89.86\n",
            "=> Saving checkpoint of epoch 28\n",
            "Iteration: 13000. Loss: 0.10122426599264145. Accuracy: 89.7\n",
            "=> Saving checkpoint of epoch 29\n",
            "Iteration: 13500. Loss: 0.05698120594024658. Accuracy: 89.65\n",
            "=> Saving checkpoint of epoch 30\n",
            "Iteration: 14000. Loss: 0.061545588076114655. Accuracy: 89.56\n",
            "=> Saving checkpoint of epoch 31\n",
            "Iteration: 14500. Loss: 0.09005814790725708. Accuracy: 89.78\n",
            "=> Saving checkpoint of epoch 32\n",
            "Iteration: 15000. Loss: 0.07181406021118164. Accuracy: 89.78\n",
            "=> Saving checkpoint of epoch 33\n",
            "=> Saving checkpoint of epoch 34\n",
            "Iteration: 15500. Loss: 0.053209371864795685. Accuracy: 90.03\n",
            "=> Saving checkpoint of epoch 35\n",
            "Iteration: 16000. Loss: 0.09234020859003067. Accuracy: 89.42\n",
            "=> Saving checkpoint of epoch 36\n",
            "Iteration: 16500. Loss: 0.07282745838165283. Accuracy: 89.95\n",
            "=> Saving checkpoint of epoch 37\n",
            "Iteration: 17000. Loss: 0.05641671270132065. Accuracy: 89.68\n",
            "=> Saving checkpoint of epoch 38\n",
            "Iteration: 17500. Loss: 0.07665394246578217. Accuracy: 89.8\n",
            "=> Saving checkpoint of epoch 39\n",
            "Iteration: 18000. Loss: 0.05842997878789902. Accuracy: 89.69\n",
            "=> Saving checkpoint of epoch 40\n",
            "Iteration: 18500. Loss: 0.07020793855190277. Accuracy: 89.73\n",
            "=> Saving checkpoint of epoch 41\n",
            "Iteration: 19000. Loss: 0.09431304037570953. Accuracy: 89.83\n",
            "=> Saving checkpoint of epoch 42\n",
            "Iteration: 19500. Loss: 0.0811658650636673. Accuracy: 90.3\n",
            "=> Saving checkpoint of epoch 43\n",
            "Iteration: 20000. Loss: 0.051786355674266815. Accuracy: 89.86\n",
            "=> Saving checkpoint of epoch 44\n",
            "=> Saving checkpoint of epoch 45\n",
            "Iteration: 20500. Loss: 0.025582652539014816. Accuracy: 90.21\n",
            "=> Saving checkpoint of epoch 46\n",
            "Iteration: 21000. Loss: 0.06657538563013077. Accuracy: 89.51\n",
            "=> Saving checkpoint of epoch 47\n",
            "Iteration: 21500. Loss: 0.09133439511060715. Accuracy: 89.98\n",
            "=> Saving checkpoint of epoch 48\n",
            "Iteration: 22000. Loss: 0.042844850569963455. Accuracy: 90.41\n",
            "=> Saving checkpoint of epoch 49\n",
            "Iteration: 22500. Loss: 0.02662290632724762. Accuracy: 89.94\n",
            "=> Saving checkpoint of epoch 50\n",
            "Iteration: 23000. Loss: 0.03898662328720093. Accuracy: 89.86\n",
            "=> Saving checkpoint of epoch 51\n",
            "Iteration: 23500. Loss: 0.0413627065718174. Accuracy: 89.91\n",
            "=> Saving checkpoint of epoch 52\n",
            "Iteration: 24000. Loss: 0.06770030409097672. Accuracy: 89.88\n",
            "=> Saving checkpoint of epoch 53\n",
            "Iteration: 24500. Loss: 0.032155659049749374. Accuracy: 89.66\n",
            "=> Saving checkpoint of epoch 54\n",
            "Iteration: 25000. Loss: 0.031367864459753036. Accuracy: 90.29\n",
            "=> Saving checkpoint of epoch 55\n",
            "=> Saving checkpoint of epoch 56\n",
            "Iteration: 25500. Loss: 0.05000791326165199. Accuracy: 90.05\n",
            "=> Saving checkpoint of epoch 57\n",
            "Iteration: 26000. Loss: 0.11133621633052826. Accuracy: 89.86\n",
            "=> Saving checkpoint of epoch 58\n",
            "Iteration: 26500. Loss: 0.009820218198001385. Accuracy: 89.85\n",
            "=> Saving checkpoint of epoch 59\n",
            "Iteration: 27000. Loss: 0.06532306969165802. Accuracy: 89.98\n",
            "=> Saving checkpoint of epoch 60\n",
            "Iteration: 27500. Loss: 0.03791390359401703. Accuracy: 89.97\n",
            "=> Saving checkpoint of epoch 61\n",
            "Iteration: 28000. Loss: 0.03592480346560478. Accuracy: 90.01\n",
            "=> Saving checkpoint of epoch 62\n",
            "Iteration: 28500. Loss: 0.0640309527516365. Accuracy: 89.93\n",
            "=> Saving checkpoint of epoch 63\n",
            "Iteration: 29000. Loss: 0.029318727552890778. Accuracy: 89.53\n",
            "=> Saving checkpoint of epoch 64\n",
            "Iteration: 29500. Loss: 0.05690612271428108. Accuracy: 89.49\n",
            "=> Saving checkpoint of epoch 65\n",
            "Iteration: 30000. Loss: 0.012449556961655617. Accuracy: 90.02\n",
            "=> Saving checkpoint of epoch 66\n"
          ]
        },
        {
          "output_type": "display_data",
          "data": {
            "image/png": "[encoded data removed]",
            "text/plain": [
              "<Figure size 432x288 with 1 Axes>"
            ]
          },
          "metadata": {
            "needs_background": "light"
          }
        },
        {
          "output_type": "stream",
          "name": "stdout",
          "text": [
            "Trained Model Loaded\n",
            "Accuracy: 89.83\n",
            "Precision: 89.83\n",
            "Recall: 89.83\n",
            "F1 score: 89.83\n"
          ]
        },
        {
          "output_type": "display_data",
          "data": {
            "image/png": "[encoded data removed]",
            "text/plain": [
              "<Figure size 432x288 with 2 Axes>"
            ]
          },
          "metadata": {
            "needs_background": "light"
          }
        }
      ]
    }
  ]
}