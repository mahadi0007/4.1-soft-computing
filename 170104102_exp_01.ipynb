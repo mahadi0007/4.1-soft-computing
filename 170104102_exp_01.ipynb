{
  "nbformat": 4,
  "nbformat_minor": 0,
  "metadata": {
    "colab": {
      "name": "170104102_exp_01.ipynb",
      "provenance": [],
      "collapsed_sections": [],
      "include_colab_link": true
    },
    "kernelspec": {
      "name": "python3",
      "display_name": "Python 3"
    },
    "language_info": {
      "name": "python"
    },
    "accelerator": "GPU"
  },
  "cells": [
    {
      "cell_type": "markdown",
      "metadata": {
        "id": "view-in-github",
        "colab_type": "text"
      },
      "source": [
        "<a href=\"https://colab.research.google.com/github/mahadi0007/4.1-soft-computing/blob/Lab-(assignment)/170104102_exp_01.ipynb\" target=\"_parent\"><img src=\"https://colab.research.google.com/assets/colab-badge.svg\" alt=\"Open In Colab\"/></a>"
      ]
    },
    {
      "cell_type": "code",
      "metadata": {
        "colab": {
          "base_uri": "https://localhost:8080/"
        },
        "id": "ozf-qRubmelG",
        "outputId": "ef355e8e-bac2-404f-eab5-fb4dbd719ab6"
      },
      "source": [
        "from google.colab import drive\n",
        "\n",
        "drive.mount('/content/drive')\n",
        "\n",
        "root_path = '/content/drive/MyDrive/Colab Notebooks/soft assignment/assignment 2/'"
      ],
      "execution_count": null,
      "outputs": [
        {
          "output_type": "stream",
          "name": "stdout",
          "text": [
            "Mounted at /content/drive\n"
          ]
        }
      ]
    },
    {
      "cell_type": "markdown",
      "metadata": {
        "id": "sKNvEPfDHQFP"
      },
      "source": [
        "# Import Library"
      ]
    },
    {
      "cell_type": "code",
      "metadata": {
        "id": "7TYWfYCnZPun"
      },
      "source": [
        "import math\n",
        "import numpy as np\n",
        "import pandas as pd\n",
        "import matplotlib\n",
        "import matplotlib.pyplot as plt\n",
        "import os\n",
        "import csv\n",
        "import torch\n",
        "import torch.nn as nn\n",
        "import torch.nn.functional as F\n",
        "from torch.utils.data import Dataset\n",
        "from torch.utils.data.sampler import SubsetRandomSampler\n",
        "from torchvision import datasets, transforms\n",
        "from PIL import Image\n",
        "from sklearn.metrics import accuracy_score\n",
        "from sklearn.metrics import confusion_matrix\n",
        "from sklearn.metrics import f1_score\n",
        "from sklearn.metrics import precision_score\n",
        "from sklearn.metrics import recall_score\n",
        "from sklearn.model_selection import train_test_split"
      ],
      "execution_count": null,
      "outputs": []
    },
    {
      "cell_type": "markdown",
      "metadata": {
        "id": "uNlFolFt7py1"
      },
      "source": [
        "# Image To Pixel Conversion"
      ]
    },
    {
      "cell_type": "code",
      "metadata": {
        "id": "AIc5xSqn7tpI"
      },
      "source": [
        "#Useful function\n",
        "def createFileList(myDir, format='.png'):\n",
        "  fileList = []\n",
        "  for root, dirs, files in os.walk(myDir, topdown=False):\n",
        "    for name in files:\n",
        "      if name.endswith(format):\n",
        "        fullName = os.path.join(root, name)\n",
        "        fileList.append(fullName)\n",
        "  return fileList\n",
        "\n",
        "# load the original image\n",
        "myFileList = createFileList(root_path)\n",
        "\n",
        "for file in myFileList:\n",
        "  img_file = Image.open(file)\n",
        "  img_file = img_file.resize((28, 28))\n",
        "\n",
        "  # Make image Greyscale\n",
        "  img_grey = img_file.convert('L')\n",
        "\n",
        "  # Save Greyscale values\n",
        "  value = np.asarray(img_grey.getdata(), dtype=np.int).reshape((img_grey.size[1], img_grey.size[0]))\n",
        "  value = value.flatten()\n",
        "  value = value.tolist()\n",
        "  value.insert(0, os.path.basename(file))\n",
        "  with open(root_path + \"all_img_pixels.csv\", 'a') as f:\n",
        "    writer = csv.writer(f)\n",
        "    writer.writerow(value)"
      ],
      "execution_count": null,
      "outputs": []
    },
    {
      "cell_type": "code",
      "metadata": {
        "id": "sfheknrKNRWg"
      },
      "source": [
        "header_list = ['filename']\n",
        "for x in range(1, 785):\n",
        "  header_list.append('pixel'+str(x))"
      ],
      "execution_count": null,
      "outputs": []
    },
    {
      "cell_type": "code",
      "metadata": {
        "id": "-rq9jh8_QI4Z"
      },
      "source": [
        "df1 = pd.read_csv(root_path + 'Dataset A/training-a.csv')\n",
        "df1 = df1[['filename', 'digit']]\n",
        "df2 = pd.read_csv(root_path + \"all_img_pixels.csv\", names=header_list)"
      ],
      "execution_count": null,
      "outputs": []
    },
    {
      "cell_type": "code",
      "metadata": {
        "id": "JRBJhZWIRBby"
      },
      "source": [
        "df3 = pd.merge(df1,df2,on='filename')\n",
        "df3 = df3.drop(columns=['filename'])\n",
        "df3 = df3.rename(columns={\"digit\":\"label\"})\n"
      ],
      "execution_count": null,
      "outputs": []
    },
    {
      "cell_type": "code",
      "metadata": {
        "id": "669Uuucak9oM"
      },
      "source": [
        "X_data = df3.drop(\"label\", axis=1).values.astype(np.uint8)\n",
        "y_data = df3[\"label\"].values"
      ],
      "execution_count": null,
      "outputs": []
    },
    {
      "cell_type": "code",
      "metadata": {
        "id": "zvrRGXP-l321"
      },
      "source": [
        "def plot_sample_images(X, y, ncols, num):\n",
        "  num = int(min(num, len(y)))\n",
        "  nrows = math.ceil(num / ncols)\n",
        "  fig, axes = plt.subplots(ncols=ncols, nrows=nrows, figsize=(ncols, nrows))\n",
        "  fig.subplots_adjust(hspace=0.8)\n",
        "  for i, ax in enumerate(axes.flatten()):\n",
        "    if i < num:\n",
        "      ax.imshow(X.max()-X[i].reshape(28, 28), cmap=\"gray\")\n",
        "      ax.set_title(str(y[i]))\n",
        "    ax.axis('off')\n",
        "  plt.show()"
      ],
      "execution_count": null,
      "outputs": []
    },
    {
      "cell_type": "code",
      "metadata": {
        "id": "8xa5Wot3l-AU"
      },
      "source": [
        "plot_sample_images(X_data, y_data, ncols=10, num=100)"
      ],
      "execution_count": null,
      "outputs": []
    },
    {
      "cell_type": "code",
      "metadata": {
        "id": "C7pj-m4hnBBs"
      },
      "source": [
        "df3.to_csv(root_path + 'final_data_with_pixels.csv', index=False)"
      ],
      "execution_count": null,
      "outputs": []
    },
    {
      "cell_type": "markdown",
      "metadata": {
        "id": "qtsiAeLAt2Sm"
      },
      "source": [
        "# Confusion Matrix"
      ]
    },
    {
      "cell_type": "code",
      "metadata": {
        "id": "7Tqi81ASt9c1"
      },
      "source": [
        "def plot_confusion_matrix(cm, classes):\n",
        "  plt.imshow(cm, interpolation='nearest', cmap=plt.cm.Blues)\n",
        "  plt.title('Confusion matrix')\n",
        "  plt.colorbar()\n",
        "  tick_marks = np.arange(len(classes))\n",
        "  plt.xticks(tick_marks, classes, rotation=45)\n",
        "  plt.yticks(tick_marks, classes)\n",
        "\n",
        "  thresh = cm.max() / 2.\n",
        "  for i in range (cm.shape[0]):\n",
        "    for j in range (cm.shape[1]):\n",
        "      plt.text(j, i, cm[i, j], horizontalalignment=\"center\", color=\"white\" if cm[i, j] > thresh else \"black\")\n",
        "      plt.tight_layout()\n",
        "      plt.ylabel('True label')\n",
        "      plt.xlabel('Predicted label')"
      ],
      "execution_count": null,
      "outputs": []
    },
    {
      "cell_type": "markdown",
      "metadata": {
        "id": "pSyejI8Shty9"
      },
      "source": [
        "# Train"
      ]
    },
    {
      "cell_type": "code",
      "metadata": {
        "id": "50AqsalZRlG7"
      },
      "source": [
        "def train(train_dataset, test_dataset, experiment_number):\n",
        "  # Hyperparameters\n",
        "\n",
        "  batch_size = 20\n",
        "  num_iters = 20000\n",
        "  input_dim = 28*28 # num_features = 784\n",
        "  num_hidden = 200 # num of hidden nodes\n",
        "  output_dim = 10\n",
        "\n",
        "  learning_rate = 0.01  # More power so we can learn faster! previously it was 0.001\n",
        "\n",
        "  startingEpoch = 0\n",
        "  iteration_loss = []\n",
        "  iter = 0\n",
        "\n",
        "  # Device\n",
        "  device = torch.device(\"cuda:0\" if torch.cuda.is_available() else \"cpu\")\n",
        "\n",
        "  X_data = train_dataset.drop(\"label\", axis=1).values.astype(np.uint8)\n",
        "  y_data = train_dataset[\"label\"].values.astype(np.uint8)\n",
        "\n",
        "  X_test = test_dataset.drop(\"label\", axis=1).values.astype(np.uint8)\n",
        "  y_test = test_dataset[\"label\"].values.astype(np.uint8)\n",
        "\n",
        "  class Digit_Recognizer_model(Dataset):\n",
        "    def __init__(self, X, y, transforms):\n",
        "      self.X = X\n",
        "      self.y = y\n",
        "      self.transforms = transforms\n",
        "\n",
        "    def __len__(self):\n",
        "      return self.X.shape[0]\n",
        "\n",
        "    def __getitem__(self, idx):\n",
        "      X = np.reshape(self.X[idx], (28, 28, 1))\n",
        "      X = self.transforms(X)\n",
        "      return X, self.y[idx]\n",
        "  \n",
        "  transform_test = transforms.Compose([\n",
        "    transforms.ToTensor(),\n",
        "    transforms.Normalize((0.5,), (0.5,))\n",
        "  ])\n",
        "\n",
        "  train_dataset = Digit_Recognizer_model(X=X_data, y=y_data, transforms=transform_test)\n",
        "  test_dataset = Digit_Recognizer_model(X=X_test, y=y_test, transforms=transform_test)\n",
        "\n",
        "  num_epochs = num_iters / (len(train_dataset) / batch_size)\n",
        "  num_epochs = int(num_epochs)\n",
        "\n",
        "  # prepare loaders\n",
        "  train_loader = torch.utils.data.DataLoader(dataset=train_dataset, \n",
        "                                            batch_size=batch_size, \n",
        "                                            shuffle=True)   # It's better to shuffle the whole training dataset! \n",
        "\n",
        "  test_loader = torch.utils.data.DataLoader(dataset=test_dataset, \n",
        "                                            batch_size=batch_size, \n",
        "                                            shuffle=False) \n",
        "  \n",
        "  class DeepNeuralNetworkModel(nn.Module):\n",
        "    def __init__(self, input_size, num_classes, num_hidden):\n",
        "      super().__init__()\n",
        "      ### 1st hidden layer: 784 --> 200\n",
        "      self.linear_1 = nn.Linear(input_size, num_hidden)\n",
        "      ### Non-linearity in 1st hidden layer\n",
        "      self.relu_1 = nn.ReLU()\n",
        "\n",
        "      ### 2nd hidden layer: 200 --> 200\n",
        "      self.linear_2 = nn.Linear(num_hidden, num_hidden)\n",
        "      ### Non-linearity in 2nd hidden layer\n",
        "      self.relu_2 = nn.ReLU()\n",
        "\n",
        "      ### 3rd hidden layer: 200 --> 200\n",
        "      self.linear_3 = nn.Linear(num_hidden, num_hidden)\n",
        "      ### Non-linearity in 3rd hidden layer\n",
        "      self.relu_3 = nn.ReLU()\n",
        "\n",
        "      ### 4th hidden layer: 200 --> 200\n",
        "      self.linear_4 = nn.Linear(num_hidden, num_hidden)\n",
        "      ### Non-linearity in 4th hidden layer\n",
        "      self.relu_4 = nn.ReLU()\n",
        "\n",
        "      ### 5th hidden layer: 200 --> 200\n",
        "      self.linear_5 = nn.Linear(num_hidden, num_hidden)\n",
        "      ### Non-linearity in 5th hidden layer\n",
        "      self.relu_5 = nn.ReLU()\n",
        "\n",
        "      ### 6th hidden layer: 200 --> 200\n",
        "      self.linear_6 = nn.Linear(num_hidden, num_hidden)\n",
        "      ### Non-linearity in 6th hidden layer\n",
        "      self.relu_6 = nn.ReLU()\n",
        "\n",
        "      ### Output layer: 200 --> 10\n",
        "      self.linear_out = nn.Linear(num_hidden, num_classes)   \n",
        "      \n",
        "    def forward(self, x):\n",
        "      ### 1st hidden layer\n",
        "      out  = self.linear_1(x)\n",
        "      ### Non-linearity in 1st hidden layer\n",
        "      out = self.relu_1(out)\n",
        "          \n",
        "      ### 2nd hidden layer\n",
        "      out  = self.linear_2(out)\n",
        "      ### Non-linearity in 2nd hidden layer\n",
        "      out = self.relu_2(out)\n",
        "\n",
        "      ### 3rd hidden layer\n",
        "      out  = self.linear_3(out)\n",
        "      ### Non-linearity in 3rd hidden layer\n",
        "      out = self.relu_3(out)\n",
        "\n",
        "      ### 4th hidden layer\n",
        "      out  = self.linear_4(out)\n",
        "      ### Non-linearity in 4th hidden layer\n",
        "      out = self.relu_4(out)\n",
        "\n",
        "      ### 5th hidden layer\n",
        "      out  = self.linear_5(out)\n",
        "      ### Non-linearity in 5th hidden layer\n",
        "      out = self.relu_5(out)\n",
        "\n",
        "      ### 6th hidden layer\n",
        "      out  = self.linear_6(out)\n",
        "      ### Non-linearity in 6th hidden layer\n",
        "      out = self.relu_6(out)\n",
        "          \n",
        "      # Linear layer (output)\n",
        "      probas  = self.linear_out(out)\n",
        "      return probas\n",
        "     \n",
        "  '''\n",
        "  INSTANTIATE MODEL CLASS\n",
        "  '''\n",
        "  model = DeepNeuralNetworkModel(input_size = input_dim,\n",
        "                                num_classes = output_dim,\n",
        "                                num_hidden = num_hidden)\n",
        "  # To enable GPU\n",
        "  model.to(device)\n",
        "\n",
        "  criterion = nn.CrossEntropyLoss()\n",
        "  optimizer = torch.optim.Adam(model.parameters(), lr = learning_rate)\n",
        "\n",
        "  if experiment_number == 1 and os.path.isfile(root_path + 'soft_computing_Experiment1_Checkpoint1.pth.tar'):\n",
        "    checkpoint = torch.load(root_path + 'soft_computing_Experiment1_Checkpoint1.pth.tar')\n",
        "    print(\"--> Loading checkpoint : \")\n",
        "    print(str(checkpoint['iter'])+' iteration completed: ')\n",
        "    model.load_state_dict(checkpoint['model_state_dict'])\n",
        "    optimizer.load_state_dict(checkpoint['optimizer_state_dict'])\n",
        "    loss = checkpoint['loss']\n",
        "    startingEpoch = checkpoint['epoch']\n",
        "    iteration_loss = checkpoint['iteration_loss']\n",
        "    iter = checkpoint['iter']\n",
        "    model.train()\n",
        "  elif experiment_number == 2 and os.path.isfile(root_path + 'soft_computing_Experiment1_Checkpoint2.pth.tar'):\n",
        "    checkpoint = torch.load(root_path + 'soft_computing_Experiment1_Checkpoint2.pth.tar')\n",
        "    print(\"--> Loading checkpoint : \")\n",
        "    print(str(checkpoint['iter'])+' iteration completed: ')\n",
        "    model.load_state_dict(checkpoint['model_state_dict'])\n",
        "    optimizer.load_state_dict(checkpoint['optimizer_state_dict'])\n",
        "    loss = checkpoint['loss']\n",
        "    startingEpoch = checkpoint['epoch']\n",
        "    iteration_loss = checkpoint['iteration_loss']\n",
        "    iter = checkpoint['iter']\n",
        "    model.train()\n",
        "\n",
        "  if startingEpoch + 1 < num_epochs:\n",
        "    print('Starting_Epoch: '+ str(startingEpoch + 1))\n",
        "    for epoch in range(startingEpoch, num_epochs):      \n",
        "      for i, (images, labels) in enumerate(train_loader):\n",
        "        \n",
        "        images = images.view(-1, 28*28).to(device)\n",
        "        labels = labels.to(device).type(torch.LongTensor)\n",
        "\n",
        "        # Clear gradients w.r.t. parameters\n",
        "        optimizer.zero_grad()\n",
        "\n",
        "        # Forward pass to get output/logits\n",
        "        outputs = model(images).cpu()\n",
        "\n",
        "        # Calculate Loss: softmax --> cross entropy loss\n",
        "  \n",
        "        loss = criterion(outputs, labels)\n",
        "\n",
        "        # Getting gradients w.r.t. parameters\n",
        "        loss.backward()\n",
        "\n",
        "        # Updating parameters\n",
        "        optimizer.step()\n",
        "\n",
        "        iter += 1\n",
        "\n",
        "        if iter % 500 == 0:\n",
        "          # Calculate Accuracy         \n",
        "          correct = 0\n",
        "          total = 0\n",
        "          # Iterate through test dataset\n",
        "          for images, labels in test_loader:\n",
        "            \n",
        "            images = images.view(-1, 28*28).to(device)\n",
        "\n",
        "            # Forward pass only to get logits/output\n",
        "            outputs = model(images)\n",
        "\n",
        "            # Get predictions from the maximum value\n",
        "            _, predicted = torch.max(outputs, 1)\n",
        "\n",
        "            # Total number of labels\n",
        "            total += labels.size(0)\n",
        "\n",
        "\n",
        "            # Total correct predictions\n",
        "            if torch.cuda.is_available():\n",
        "              correct += (predicted.cpu() == labels.cpu()).sum() \n",
        "            else:\n",
        "              correct += (predicted == labels).sum()\n",
        "\n",
        "          accuracy = 100 * correct.item() / total\n",
        "          \n",
        "          # Print Loss\n",
        "          iteration_loss.append(loss.item())\n",
        "          print('Iteration: {}. Loss: {}. Accuracy: {}'.format(iter, loss.item(), accuracy))\n",
        "\n",
        "      checkpoint = {'epoch': epoch, \n",
        "                    'model_state_dict': model.state_dict(), \n",
        "                    'optimizer_state_dict': optimizer.state_dict(),\n",
        "                    'loss': loss,\n",
        "                    'iteration_loss': iteration_loss,\n",
        "                    'iter': iter}\n",
        "      print(\"=> Saving checkpoint of epoch \" + str(epoch + 1))\n",
        "      if experiment_number == 1:\n",
        "        torch.save(checkpoint, root_path + 'soft_computing_Experiment1_Checkpoint1.pth.tar')\n",
        "      elif experiment_number == 2:\n",
        "        torch.save(checkpoint, root_path + 'soft_computing_Experiment1_Checkpoint2.pth.tar')\n",
        "  else:\n",
        "    print('Training finish')\n",
        "\n",
        "  plt.title(\"Loss vs Iteration\")\n",
        "  plt.plot(iteration_loss)\n",
        "  plt.ylabel('Cross Entropy Loss')\n",
        "  plt.xlabel('Iteration (in every 500)')\n",
        "  plt.show()\n",
        "\n",
        "  save_model = True\n",
        "\n",
        "  if save_model is True and experiment_number == 1:\n",
        "    # Saves only parameters\n",
        "    # weights & biases\n",
        "    torch.save(model.state_dict(), root_path + 'soft_computing_Experiment1_NN1.pkl')\n",
        "  elif save_model is True and experiment_number == 2:\n",
        "    # Saves only parameters\n",
        "    # weights & biases\n",
        "    torch.save(model.state_dict(), root_path + 'soft_computing_Experiment1_NN2.pkl')\n",
        "\n",
        "  load_model = True\n",
        "\n",
        "  if load_model is True and experiment_number == 1:\n",
        "    model.load_state_dict(torch.load(root_path + 'soft_computing_Experiment1_NN1.pkl'))\n",
        "    print('Trained Model Loaded')\n",
        "  elif load_model is True and experiment_number == 2:\n",
        "    model.load_state_dict(torch.load(root_path + 'soft_computing_Experiment1_NN2.pkl'))\n",
        "    print('Trained Model Loaded')\n",
        "\n",
        "  y_pred = torch.tensor([], dtype=torch.int32)\n",
        "  y_true = torch.tensor([], dtype=torch.int32)\n",
        "  for i, (images, labels) in enumerate(test_loader):\n",
        "    images = images.view(-1, 28*28).to(device)\n",
        "    labels = labels.to(device)\n",
        "\n",
        "    # Forward pass only to get logits/output\n",
        "    outputs = model(images).cpu()\n",
        "\n",
        "    # Get predictions from the maximum value\n",
        "    _, predictions = torch.max(outputs, 1)\n",
        "    y_pred = torch.cat((y_pred, predictions.cpu()), dim = 0)\n",
        "    y_true = torch.cat((y_true.cpu(), labels.cpu()), dim = 0).to(device)\n",
        "\n",
        "\n",
        "  print('Accuracy: ' +str(round(accuracy_score(y_true.cpu(), y_pred) * 100, 4)))\n",
        "  print('Precision: ' +str(round(precision_score(y_true.cpu(), y_pred, average='micro') * 100, 4)))\n",
        "  print('Recall: ' +str(round(recall_score(y_true.cpu(), y_pred, average='micro') * 100, 4)))\n",
        "  print('F1 score: ' +str(round(f1_score(y_true.cpu(), y_pred, average='micro')  * 100, 4)))\n",
        "  confusion_mtx = confusion_matrix(y_true.cpu(), y_pred)\n",
        "  plot_confusion_matrix(confusion_mtx, classes = range(10))"
      ],
      "execution_count": null,
      "outputs": []
    },
    {
      "cell_type": "markdown",
      "metadata": {
        "id": "MbKjn2zOhM_0"
      },
      "source": [
        "# Model 1\n",
        "final_data_with_pixels"
      ]
    },
    {
      "cell_type": "code",
      "metadata": {
        "id": "eG97wmIiaBsc"
      },
      "source": [
        "df = pd.read_csv(root_path + 'Dataset A/final_data_with_pixels.csv')"
      ],
      "execution_count": null,
      "outputs": []
    },
    {
      "cell_type": "code",
      "metadata": {
        "id": "red2GGG1M5PK"
      },
      "source": [
        "train_dataset, test_dataset = train_test_split(df, test_size=0.2, random_state=42)"
      ],
      "execution_count": null,
      "outputs": []
    },
    {
      "cell_type": "code",
      "metadata": {
        "id": "vmkMVvf8CLHf",
        "colab": {
          "base_uri": "https://localhost:8080/",
          "height": 1000
        },
        "outputId": "5a59144b-1213-4f71-dfa3-a39c03e7819b"
      },
      "source": [
        "train(train_dataset, test_dataset, 1)"
      ],
      "execution_count": null,
      "outputs": [
        {
          "output_type": "stream",
          "name": "stdout",
          "text": [
            "Starting_Epoch: 1\n",
            "Iteration: 500. Loss: 2.2984025478363037. Accuracy: 10.022836843440752\n",
            "=> Saving checkpoint of epoch 1\n",
            "Iteration: 1000. Loss: 2.3083930015563965. Accuracy: 9.261608728749048\n",
            "Iteration: 1500. Loss: 2.3065993785858154. Accuracy: 10.301953818827709\n",
            "=> Saving checkpoint of epoch 2\n",
            "Iteration: 2000. Loss: 2.3084912300109863. Accuracy: 10.504947982745495\n",
            "=> Saving checkpoint of epoch 3\n",
            "Iteration: 2500. Loss: 2.3056604862213135. Accuracy: 10.022836843440752\n",
            "Iteration: 3000. Loss: 2.303392171859741. Accuracy: 9.083988835320984\n",
            "=> Saving checkpoint of epoch 4\n",
            "Iteration: 3500. Loss: 2.3015148639678955. Accuracy: 9.515351433646282\n",
            "=> Saving checkpoint of epoch 5\n",
            "Iteration: 4000. Loss: 2.303802013397217. Accuracy: 10.022836843440752\n",
            "Iteration: 4500. Loss: 2.30273175239563. Accuracy: 10.022836843440752\n",
            "=> Saving checkpoint of epoch 6\n",
            "Iteration: 5000. Loss: 2.3118948936462402. Accuracy: 10.504947982745495\n",
            "Iteration: 5500. Loss: 2.321913242340088. Accuracy: 10.403450900786602\n",
            "=> Saving checkpoint of epoch 7\n",
            "Iteration: 6000. Loss: 2.307697296142578. Accuracy: 9.515351433646282\n",
            "=> Saving checkpoint of epoch 8\n",
            "Iteration: 6500. Loss: 2.307620048522949. Accuracy: 10.504947982745495\n",
            "Iteration: 7000. Loss: 2.313303232192993. Accuracy: 10.022836843440752\n",
            "=> Saving checkpoint of epoch 9\n",
            "Iteration: 7500. Loss: 2.3165030479431152. Accuracy: 10.022836843440752\n",
            "=> Saving checkpoint of epoch 10\n",
            "Iteration: 8000. Loss: 2.3019328117370605. Accuracy: 10.022836843440752\n",
            "Iteration: 8500. Loss: 2.303650379180908. Accuracy: 10.301953818827709\n",
            "=> Saving checkpoint of epoch 11\n",
            "Iteration: 9000. Loss: 2.2831029891967773. Accuracy: 9.515351433646282\n",
            "=> Saving checkpoint of epoch 12\n",
            "Iteration: 9500. Loss: 2.28791880607605. Accuracy: 10.175082466379092\n",
            "Iteration: 10000. Loss: 2.3109941482543945. Accuracy: 9.083988835320984\n",
            "=> Saving checkpoint of epoch 13\n",
            "Iteration: 10500. Loss: 2.3267416954040527. Accuracy: 9.083988835320984\n",
            "Iteration: 11000. Loss: 2.2997257709503174. Accuracy: 9.083988835320984\n",
            "=> Saving checkpoint of epoch 14\n",
            "Iteration: 11500. Loss: 2.312678098678589. Accuracy: 9.261608728749048\n",
            "=> Saving checkpoint of epoch 15\n",
            "Iteration: 12000. Loss: 2.3142294883728027. Accuracy: 9.083988835320984\n",
            "Iteration: 12500. Loss: 2.2959554195404053. Accuracy: 9.515351433646282\n",
            "=> Saving checkpoint of epoch 16\n",
            "Iteration: 13000. Loss: 2.3187949657440186. Accuracy: 9.515351433646282\n",
            "=> Saving checkpoint of epoch 17\n",
            "Iteration: 13500. Loss: 2.3126018047332764. Accuracy: 9.515351433646282\n",
            "Iteration: 14000. Loss: 2.3029046058654785. Accuracy: 9.083988835320984\n",
            "=> Saving checkpoint of epoch 18\n",
            "Iteration: 14500. Loss: 2.304154872894287. Accuracy: 9.083988835320984\n",
            "=> Saving checkpoint of epoch 19\n",
            "Iteration: 15000. Loss: 2.309007406234741. Accuracy: 9.515351433646282\n",
            "Iteration: 15500. Loss: 2.2874388694763184. Accuracy: 9.515351433646282\n",
            "=> Saving checkpoint of epoch 20\n",
            "Iteration: 16000. Loss: 2.2990939617156982. Accuracy: 10.022836843440752\n",
            "Iteration: 16500. Loss: 2.298225164413452. Accuracy: 10.022836843440752\n",
            "=> Saving checkpoint of epoch 21\n",
            "Iteration: 17000. Loss: 2.2987313270568848. Accuracy: 10.022836843440752\n",
            "=> Saving checkpoint of epoch 22\n",
            "Iteration: 17500. Loss: 2.3002405166625977. Accuracy: 10.504947982745495\n",
            "Iteration: 18000. Loss: 2.3165087699890137. Accuracy: 10.301953818827709\n",
            "=> Saving checkpoint of epoch 23\n",
            "Iteration: 18500. Loss: 2.2987656593322754. Accuracy: 9.083988835320984\n",
            "=> Saving checkpoint of epoch 24\n",
            "Iteration: 19000. Loss: 2.3043782711029053. Accuracy: 9.083988835320984\n",
            "Iteration: 19500. Loss: 2.3244216442108154. Accuracy: 10.301953818827709\n",
            "=> Saving checkpoint of epoch 25\n"
          ]
        },
        {
          "output_type": "display_data",
          "data": {
            "image/png": "[encoded data removed]",
            "text/plain": [
              "<Figure size 432x288 with 1 Axes>"
            ]
          },
          "metadata": {
            "needs_background": "light"
          }
        },
        {
          "output_type": "stream",
          "name": "stdout",
          "text": [
            "Trained Model Loaded\n",
            "Accuracy: 10.0228\n",
            "Precision: 10.0228\n",
            "Recall: 10.0228\n",
            "F1 score: 10.0228\n"
          ]
        },
        {
          "output_type": "display_data",
          "data": {
            "image/png": "[encoded data removed]",
            "text/plain": [
              "<Figure size 432x288 with 2 Axes>"
            ]
          },
          "metadata": {
            "needs_background": "light"
          }
        }
      ]
    },
    {
      "cell_type": "markdown",
      "metadata": {
        "id": "BCEJCs_7E0j_"
      },
      "source": [
        "# Model 2\n",
        "MNIST"
      ]
    },
    {
      "cell_type": "code",
      "metadata": {
        "id": "9zuuJ97njtad"
      },
      "source": [
        "train_dataset = pd.read_csv(root_path + \"Dataset_2/verification_train.csv\")\n",
        "test_dataset = pd.read_csv(root_path + \"Dataset_2/verification_test.csv\")"
      ],
      "execution_count": null,
      "outputs": []
    },
    {
      "cell_type": "code",
      "metadata": {
        "id": "_q4OjIq7jtae",
        "colab": {
          "base_uri": "https://localhost:8080/",
          "height": 1000
        },
        "outputId": "45806dca-ae51-4ef1-8161-39b3de2fe2ed"
      },
      "source": [
        "train(train_dataset, test_dataset, 2)"
      ],
      "execution_count": null,
      "outputs": [
        {
          "output_type": "stream",
          "name": "stdout",
          "text": [
            "Starting_Epoch: 1\n",
            "Iteration: 500. Loss: 1.3170307874679565. Accuracy: 55.46\n",
            "Iteration: 1000. Loss: 1.2631938457489014. Accuracy: 48.91\n",
            "Iteration: 1500. Loss: 1.4589533805847168. Accuracy: 33.57\n",
            "Iteration: 2000. Loss: 1.2840017080307007. Accuracy: 38.47\n",
            "Iteration: 2500. Loss: 1.8389050960540771. Accuracy: 34.53\n",
            "Iteration: 3000. Loss: 1.5127242803573608. Accuracy: 46.77\n",
            "=> Saving checkpoint of epoch 1\n",
            "Iteration: 3500. Loss: 1.1430498361587524. Accuracy: 54.08\n",
            "Iteration: 4000. Loss: 2.1632628440856934. Accuracy: 10.0\n",
            "Iteration: 4500. Loss: 2.3846869468688965. Accuracy: 10.0\n",
            "Iteration: 5000. Loss: 2.3204524517059326. Accuracy: 10.0\n",
            "Iteration: 5500. Loss: 2.3303771018981934. Accuracy: 10.0\n",
            "Iteration: 6000. Loss: 2.3815579414367676. Accuracy: 10.0\n",
            "=> Saving checkpoint of epoch 2\n",
            "Iteration: 6500. Loss: 2.297973871231079. Accuracy: 9.99\n",
            "Iteration: 7000. Loss: 2.3741369247436523. Accuracy: 10.0\n",
            "Iteration: 7500. Loss: 2.3400373458862305. Accuracy: 10.0\n",
            "Iteration: 8000. Loss: 2.2859530448913574. Accuracy: 10.0\n",
            "Iteration: 8500. Loss: 2.3419365882873535. Accuracy: 9.99\n",
            "Iteration: 9000. Loss: 2.303117275238037. Accuracy: 10.0\n",
            "=> Saving checkpoint of epoch 3\n",
            "Iteration: 9500. Loss: 2.2722649574279785. Accuracy: 10.0\n",
            "Iteration: 10000. Loss: 2.3221232891082764. Accuracy: 10.0\n",
            "Iteration: 10500. Loss: 2.2591500282287598. Accuracy: 10.0\n",
            "Iteration: 11000. Loss: 2.3244872093200684. Accuracy: 10.0\n",
            "Iteration: 11500. Loss: 2.2999072074890137. Accuracy: 10.0\n",
            "Iteration: 12000. Loss: 2.2893004417419434. Accuracy: 10.0\n",
            "=> Saving checkpoint of epoch 4\n",
            "Iteration: 12500. Loss: 2.3101089000701904. Accuracy: 10.0\n",
            "Iteration: 13000. Loss: 2.347033977508545. Accuracy: 10.0\n",
            "Iteration: 13500. Loss: 2.328793525695801. Accuracy: 10.0\n",
            "Iteration: 14000. Loss: 2.3034634590148926. Accuracy: 10.0\n",
            "Iteration: 14500. Loss: 2.315971851348877. Accuracy: 10.0\n",
            "Iteration: 15000. Loss: 2.2827186584472656. Accuracy: 10.0\n",
            "=> Saving checkpoint of epoch 5\n",
            "Iteration: 15500. Loss: 2.326124906539917. Accuracy: 10.0\n",
            "Iteration: 16000. Loss: 2.2834315299987793. Accuracy: 10.0\n",
            "Iteration: 16500. Loss: 2.3835136890411377. Accuracy: 10.0\n",
            "Iteration: 17000. Loss: 2.29292893409729. Accuracy: 10.0\n",
            "Iteration: 17500. Loss: 2.3209471702575684. Accuracy: 9.99\n",
            "Iteration: 18000. Loss: 2.3362154960632324. Accuracy: 10.0\n",
            "=> Saving checkpoint of epoch 6\n"
          ]
        },
        {
          "output_type": "display_data",
          "data": {
            "image/png": "[encoded data removed]",
            "text/plain": [
              "<Figure size 432x288 with 1 Axes>"
            ]
          },
          "metadata": {
            "needs_background": "light"
          }
        },
        {
          "output_type": "stream",
          "name": "stdout",
          "text": [
            "Trained Model Loaded\n",
            "Accuracy: 10.0\n",
            "Precision: 10.0\n",
            "Recall: 10.0\n",
            "F1 score: 10.0\n"
          ]
        },
        {
          "output_type": "display_data",
          "data": {
            "image/png": "[encoded data removed]",
            "text/plain": [
              "<Figure size 432x288 with 2 Axes>"
            ]
          },
          "metadata": {
            "needs_background": "light"
          }
        }
      ]
    },
    {
      "cell_type": "code",
      "metadata": {
        "id": "DCVIeELbL2h0"
      },
      "source": [
        ""
      ],
      "execution_count": null,
      "outputs": []
    }
  ]
}